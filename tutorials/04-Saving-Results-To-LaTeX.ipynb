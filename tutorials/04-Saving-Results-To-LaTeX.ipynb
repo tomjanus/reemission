{
 "cells": [
  {
   "cell_type": "markdown",
   "metadata": {},
   "source": [
    "<div>\n",
    "    <h1 style=\"text-align:center\"> This is the main repository of notebooks which demonstrate the usage of dam-emission </h1>\n",
    "    <h3> This notebook demonstrates how to: </h3>\n",
    " <ol>\n",
    "  <li>Read input data and output configuration YAML file and instantiate the emission model</li>\n",
    "  <li>Add LaTeX model presenter, calculate emissions and save results to TEX and PDF files</li>\n",
    "  <li>Open the generated PDF document</li>\n",
    "</ol>\n",
    "</div>"
   ]
  },
  {
   "cell_type": "markdown",
   "metadata": {},
   "source": [
    "### Import the required libraries and RE-Emission classes"
   ]
  },
  {
   "cell_type": "code",
   "execution_count": 1,
   "metadata": {
    "execution": {
     "iopub.execute_input": "2025-06-26T23:32:47.555832Z",
     "iopub.status.busy": "2025-06-26T23:32:47.555648Z",
     "iopub.status.idle": "2025-06-26T23:32:48.355103Z",
     "shell.execute_reply": "2025-06-26T23:32:48.354481Z"
    }
   },
   "outputs": [],
   "source": [
    "import os\n",
    "import pathlib\n",
    "import gdown\n",
    "import webbrowser\n",
    "try:\n",
    "    import reemission\n",
    "except ImportError:\n",
    "    %pip install git+https://github.com/tomjanus/reemission.git --quiet\n",
    "# Import package file loader\n",
    "from reemission.utils import get_package_file\n",
    "# Import from the model module\n",
    "from reemission.model import EmissionModel\n",
    "# Import from the input module\n",
    "from reemission.input import Inputs\n",
    "# Import from the presenter module\n",
    "from reemission.presenter import LatexWriter"
   ]
  },
  {
   "cell_type": "markdown",
   "metadata": {},
   "source": [
    "### 1. Read input data and output configuration YAML file and instantiate the emission model"
   ]
  },
  {
   "cell_type": "code",
   "execution_count": 2,
   "metadata": {
    "execution": {
     "iopub.execute_input": "2025-06-26T23:32:48.357416Z",
     "iopub.status.busy": "2025-06-26T23:32:48.357039Z",
     "iopub.status.idle": "2025-06-26T23:32:48.376202Z",
     "shell.execute_reply": "2025-06-26T23:32:48.375811Z"
    }
   },
   "outputs": [],
   "source": [
    "if not os.path.exists(pathlib.Path('./inputs.json')):\n",
    "    # Download the required input file from an external link\n",
    "    !gdown 1T9Pal8h9Ce6phw1qdPM5AkuZM_hnvBGT\n",
    "input_data = Inputs.fromfile('inputs.json')\n",
    "output_config = get_package_file('config', 'outputs.yaml').as_posix()\n",
    "model = EmissionModel(inputs=input_data, presenter_config=output_config, author=\"Guest\")"
   ]
  },
  {
   "cell_type": "markdown",
   "metadata": {},
   "source": [
    "### 2. Add LaTeX model presenter, calculate emissions and save results to TEX and PDF files"
   ]
  },
  {
   "cell_type": "code",
   "execution_count": 3,
   "metadata": {
    "execution": {
     "iopub.execute_input": "2025-06-26T23:32:48.377778Z",
     "iopub.status.busy": "2025-06-26T23:32:48.377457Z",
     "iopub.status.idle": "2025-06-26T23:32:48.380118Z",
     "shell.execute_reply": "2025-06-26T23:32:48.379689Z"
    }
   },
   "outputs": [],
   "source": [
    "# Recent changes force the input data to contain a unique reservoir 'id' field\n",
    "# We are dynamically adding ids so that the input data conforms to the schema.\n",
    "for index, (res_name, res_inputs) in enumerate(input_data.inputs.items()):\n",
    "    res_inputs.data['id'] = index"
   ]
  },
  {
   "cell_type": "code",
   "execution_count": 4,
   "metadata": {
    "execution": {
     "iopub.execute_input": "2025-06-26T23:32:48.381701Z",
     "iopub.status.busy": "2025-06-26T23:32:48.381383Z",
     "iopub.status.idle": "2025-06-26T23:32:48.452934Z",
     "shell.execute_reply": "2025-06-26T23:32:48.452326Z"
    }
   },
   "outputs": [
    {
     "name": "stderr",
     "output_type": "stream",
     "text": [
      "ERROR:reemission.presenter:LaTeX compiler cannot be found in your environment.'.tex' and '.pdf' files could not be created.\n"
     ]
    }
   ],
   "source": [
    "os.makedirs('outputs', exist_ok=True)\n",
    "model.add_presenter(\n",
    "    writers=[LatexWriter],\n",
    "    output_files=[pathlib.Path('outputs/output.tex')])\n",
    "model.calculate()\n",
    "model.save_results()"
   ]
  },
  {
   "cell_type": "markdown",
   "metadata": {},
   "source": [
    "### 3. Open the generated PDF document"
   ]
  },
  {
   "cell_type": "code",
   "execution_count": 5,
   "metadata": {
    "execution": {
     "iopub.execute_input": "2025-06-26T23:32:48.455085Z",
     "iopub.status.busy": "2025-06-26T23:32:48.454586Z",
     "iopub.status.idle": "2025-06-26T23:32:48.458543Z",
     "shell.execute_reply": "2025-06-26T23:32:48.457952Z"
    }
   },
   "outputs": [
    {
     "name": "stdout",
     "output_type": "stream",
     "text": [
      "File: outputs/output.pdf does not exist.\n"
     ]
    }
   ],
   "source": [
    "# os.getcwd(),\n",
    "pdf_file = pathlib.Path('outputs/output.pdf').as_posix()\n",
    "if os.path.exists(pdf_file):\n",
    "    webbrowser.open_new(pdf_file)\n",
    "else:\n",
    "    print(f\"File: {pdf_file} does not exist.\")"
   ]
  },
  {
   "cell_type": "markdown",
   "metadata": {},
   "source": [
    "<a href=\"https://colab.research.google.com/github/tomjanus/re-emission/blob/master/docs/notebooks/04-Saving-Results-To-LaTeX.ipynb\"><img align=\"left\" src=\"https://colab.research.google.com/assets/colab-badge.svg\" alt=\"Open in Colab\" title=\"Open and Execute in Google Colaboratory\"></a>"
   ]
  }
 ],
 "metadata": {
  "kernelspec": {
   "display_name": "reemission_deploy",
   "language": "python",
   "name": "python3"
  },
  "language_info": {
   "codemirror_mode": {
    "name": "ipython",
    "version": 3
   },
   "file_extension": ".py",
   "mimetype": "text/x-python",
   "name": "python",
   "nbconvert_exporter": "python",
   "pygments_lexer": "ipython3",
   "version": "3.11.13"
  },
  "latex_envs": {
   "LaTeX_envs_menu_present": true,
   "autoclose": false,
   "autocomplete": true,
   "bibliofile": "biblio.bib",
   "cite_by": "apalike",
   "current_citInitial": 1,
   "eqLabelWithNumbers": true,
   "eqNumInitial": 1,
   "hotkeys": {
    "equation": "Ctrl-E",
    "itemize": "Ctrl-I"
   },
   "labels_anchors": false,
   "latex_user_defs": false,
   "report_style_numbering": false,
   "user_envs_cfg": false
  },
  "varInspector": {
   "cols": {
    "lenName": 16,
    "lenType": 16,
    "lenVar": 40
   },
   "kernels_config": {
    "python": {
     "delete_cmd_postfix": "",
     "delete_cmd_prefix": "del ",
     "library": "var_list.py",
     "varRefreshCmd": "print(var_dic_list())"
    },
    "r": {
     "delete_cmd_postfix": ") ",
     "delete_cmd_prefix": "rm(",
     "library": "var_list.r",
     "varRefreshCmd": "cat(var_dic_list()) "
    }
   },
   "types_to_exclude": [
    "module",
    "function",
    "builtin_function_or_method",
    "instance",
    "_Feature"
   ],
   "window_display": false
  }
 },
 "nbformat": 4,
 "nbformat_minor": 4
}
