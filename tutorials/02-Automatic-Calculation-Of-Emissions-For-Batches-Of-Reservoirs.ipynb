{
 "cells": [
  {
   "cell_type": "markdown",
   "metadata": {},
   "source": [
    "</div>\n",
    "<div>\n",
    "<img src=\"graphics/logo-banner-bw.png\" width=\"500\"/>\n",
    "</div>\n",
    "<div>\n",
    "    <h1 style=\"text-align:center\"> Automatic calculation of emissions for batches of reservoirs</h1>\n",
    "    <h3 style=\"text-align:center\"> Input data is defined in JSON file whilst outputs data configuration is specified in YAML config file. </h3>\n",
    "    <h3> This notebook demonstrates how to: </h3>\n",
    " <ol>\n",
    "  <li>Read input data in JSON format and output configuration YAML file</li>\n",
    "  <li>Instantiate the emission model object from input data output configuration file</li>\n",
    "  <li>Calculate emissions</li>\n",
    "  <li>Display model ouptputs</li>\n",
    "</ol> \n",
    "</div>"
   ]
  },
  {
   "cell_type": "markdown",
   "metadata": {},
   "source": [
    "<!--NAVIGATION-->\n",
    "<font size=\"3\"> < [Manual Step-By-Step Calculations](01-Step-By-Step-Manual-Calculations.ipynb) | [Contents](index.ipynb) | [Saving Results To JSON](03-Saving-Results-To-JSON.ipynb) > </font>\n",
    "\n",
    "<a href=\"https://colab.research.google.com/github/tomjanus/re-emission/blob/master/docs/notebooks/02-Automatic-Calculation-Of-Emissions-For-Batches-Of-Reservoirs.ipynb\"><img align=\"left\" src=\"https://colab.research.google.com/assets/colab-badge.svg\" alt=\"Open in Colab\" title=\"Open and Execute in Google Colaboratory\"></a>"
   ]
  },
  {
   "cell_type": "markdown",
   "metadata": {},
   "source": [
    "### Import the required libraries and RE-Emission classes"
   ]
  },
  {
   "cell_type": "code",
   "execution_count": 1,
   "metadata": {
    "execution": {
     "iopub.execute_input": "2025-08-05T22:24:39.872442Z",
     "iopub.status.busy": "2025-08-05T22:24:39.872207Z",
     "iopub.status.idle": "2025-08-05T22:24:41.866388Z",
     "shell.execute_reply": "2025-08-05T22:24:41.865837Z"
    }
   },
   "outputs": [],
   "source": [
    "from os.path import exists\n",
    "import pathlib\n",
    "import gdown\n",
    "import pprint\n",
    "# Import reemission\n",
    "try:\n",
    "    import reemission\n",
    "except ImportError:\n",
    "    %pip install git+https://github.com/tomjanus/reemission.git --quiet\n",
    "# Import package file loader\n",
    "from reemission.utils import get_package_file\n",
    "# Import from the model module\n",
    "from reemission.model import EmissionModel\n",
    "# Import from the input module\n",
    "from reemission.input import Inputs"
   ]
  },
  {
   "cell_type": "markdown",
   "metadata": {},
   "source": [
    "### 1. Read input data and output configuration YAML file"
   ]
  },
  {
   "cell_type": "code",
   "execution_count": 2,
   "metadata": {
    "execution": {
     "iopub.execute_input": "2025-08-05T22:24:41.868350Z",
     "iopub.status.busy": "2025-08-05T22:24:41.868099Z",
     "iopub.status.idle": "2025-08-05T22:24:41.871956Z",
     "shell.execute_reply": "2025-08-05T22:24:41.871370Z"
    }
   },
   "outputs": [],
   "source": [
    "if not exists(pathlib.Path('./inputs.json')):\n",
    "    # Download the required input file from an external link\n",
    "    !gdown 1T9Pal8h9Ce6phw1qdPM5AkuZM_hnvBGT\n",
    "input_data = Inputs.fromfile('inputs.json')\n",
    "output_config = get_package_file('config', 'outputs.yaml').as_posix()"
   ]
  },
  {
   "cell_type": "markdown",
   "metadata": {},
   "source": [
    "### 2. Instantiate the emission model object from input data output configuration file"
   ]
  },
  {
   "cell_type": "code",
   "execution_count": 3,
   "metadata": {
    "execution": {
     "iopub.execute_input": "2025-08-05T22:24:41.873612Z",
     "iopub.status.busy": "2025-08-05T22:24:41.873419Z",
     "iopub.status.idle": "2025-08-05T22:24:41.892961Z",
     "shell.execute_reply": "2025-08-05T22:24:41.892368Z"
    }
   },
   "outputs": [],
   "source": [
    "model = EmissionModel(inputs=input_data, presenter_config=output_config, p_model='g-res')"
   ]
  },
  {
   "cell_type": "markdown",
   "metadata": {},
   "source": [
    "### 3. Calculate emissions"
   ]
  },
  {
   "cell_type": "code",
   "execution_count": 4,
   "metadata": {
    "execution": {
     "iopub.execute_input": "2025-08-05T22:24:41.894515Z",
     "iopub.status.busy": "2025-08-05T22:24:41.894350Z",
     "iopub.status.idle": "2025-08-05T22:24:41.930077Z",
     "shell.execute_reply": "2025-08-05T22:24:41.929493Z"
    }
   },
   "outputs": [],
   "source": [
    "model.calculate()"
   ]
  },
  {
   "cell_type": "markdown",
   "metadata": {},
   "source": [
    "### 4. Display outputs dictionary"
   ]
  },
  {
   "cell_type": "code",
   "execution_count": 5,
   "metadata": {
    "execution": {
     "iopub.execute_input": "2025-08-05T22:24:41.931777Z",
     "iopub.status.busy": "2025-08-05T22:24:41.931613Z",
     "iopub.status.idle": "2025-08-05T22:24:41.938279Z",
     "shell.execute_reply": "2025-08-05T22:24:41.937740Z"
    }
   },
   "outputs": [
    {
     "name": "stdout",
     "output_type": "stream",
     "text": [
      "{'Reservoir 1': {'ch4_degassing': 0.0,\n",
      "                 'ch4_diffusion': 229.50728895021928,\n",
      "                 'ch4_ebullition': 321.2319562880549,\n",
      "                 'ch4_net': 550.7392452382742,\n",
      "                 'ch4_preimp': 0.0,\n",
      "                 'ch4_profile': [1075.7638713949952,\n",
      "                                 983.3228492856958,\n",
      "                                 883.5313487045227,\n",
      "                                 726.8036292777338,\n",
      "                                 613.7600723593921,\n",
      "                                 532.224745950718,\n",
      "                                 473.41547248304676,\n",
      "                                 414.4537841630906,\n",
      "                                 378.33609877105505,\n",
      "                                 350.9395594718922],\n",
      "                 'ch4_total_lifetime': 88.33857493621919,\n",
      "                 'ch4_total_per_year': 883.3857493621919,\n",
      "                 'co2_diffusion': 572.7646642529623,\n",
      "                 'co2_diffusion_nonanthro': 393.12744599578104,\n",
      "                 'co2_minus_nonanthro': 179.6372182571813,\n",
      "                 'co2_net': 313.103884923848,\n",
      "                 'co2_preimp': -133.4666666666667,\n",
      "                 'co2_profile': [1537.2783464521954,\n",
      "                                 796.8483727272558,\n",
      "                                 580.8307965527008,\n",
      "                                 408.98093357353525,\n",
      "                                 325.2415499478169,\n",
      "                                 272.2680978453252,\n",
      "                                 234.50567817918972,\n",
      "                                 193.5204959761715,\n",
      "                                 163.50804922594176,\n",
      "                                 133.4666666666667],\n",
      "                 'co2_total_lifetime': 50.22186314178522,\n",
      "                 'co2_total_per_year': 502.21863141785224,\n",
      "                 'n2o_mean': 0.04569849137014073,\n",
      "                 'n2o_methodA': 0.043280912406044016,\n",
      "                 'n2o_methodB': 0.048116070334237454,\n",
      "                 'n2o_profile': [0.043280912406044016,\n",
      "                                 0.043280912406044016,\n",
      "                                 0.043280912406044016,\n",
      "                                 0.043280912406044016,\n",
      "                                 0.043280912406044016,\n",
      "                                 0.043280912406044016,\n",
      "                                 0.043280912406044016,\n",
      "                                 0.043280912406044016,\n",
      "                                 0.043280912406044016,\n",
      "                                 0.043280912406044016],\n",
      "                 'n2o_total_lifetime': 0.00694225834992946,\n",
      "                 'n2o_total_per_year': 0.0694225834992946},\n",
      " 'Reservoir 2': {'ch4_degassing': 0.0,\n",
      "                 'ch4_diffusion': 136.10915204619948,\n",
      "                 'ch4_ebullition': 90.94433704616341,\n",
      "                 'ch4_net': 227.0534890923629,\n",
      "                 'ch4_preimp': 0.0,\n",
      "                 'ch4_profile': [538.4190104073056,\n",
      "                                 483.5969209166755,\n",
      "                                 424.4156348335686,\n",
      "                                 331.46836030085456,\n",
      "                                 264.42795061792253,\n",
      "                                 216.0734770408248,\n",
      "                                 181.1966747364153,\n",
      "                                 146.2294829005942,\n",
      "                                 124.80991250234145,\n",
      "                                 108.56241225925223],\n",
      "                 'ch4_total_lifetime': 394.5735533447083,\n",
      "                 'ch4_total_per_year': 3945.7355334470826,\n",
      "                 'co2_diffusion': 796.9654854957547,\n",
      "                 'co2_diffusion_nonanthro': 547.0117579064897,\n",
      "                 'co2_minus_nonanthro': 249.953727589265,\n",
      "                 'co2_net': 378.8003942559317,\n",
      "                 'co2_preimp': -128.8466666666667,\n",
      "                 'co2_profile': [2082.161049955455,\n",
      "                                 1051.8999840865445,\n",
      "                                 751.3253096762252,\n",
      "                                 512.2071900900598,\n",
      "                                 395.68918070233053,\n",
      "                                 321.98000203239394,\n",
      "                                 269.43600446933124,\n",
      "                                 212.40773846209936,\n",
      "                                 170.6473337304127,\n",
      "                                 128.8466666666667],\n",
      "                 'co2_total_lifetime': 658.279325137958,\n",
      "                 'co2_total_per_year': 6582.79325137958,\n",
      "                 'n2o_mean': 0.3184910807620064,\n",
      "                 'n2o_methodA': 0.35553527541406443,\n",
      "                 'n2o_methodB': 0.2814468861099484,\n",
      "                 'n2o_profile': [0.35553527541406443,\n",
      "                                 0.35553527541406443,\n",
      "                                 0.35553527541406443,\n",
      "                                 0.35553527541406443,\n",
      "                                 0.35553527541406443,\n",
      "                                 0.35553527541406443,\n",
      "                                 0.35553527541406443,\n",
      "                                 0.35553527541406443,\n",
      "                                 0.35553527541406443,\n",
      "                                 0.35553527541406443],\n",
      "                 'n2o_total_lifetime': 0.6178492016145611,\n",
      "                 'n2o_total_per_year': 6.178492016145611},\n",
      " 'Reservoir 3': {'ch4_degassing': 0.0,\n",
      "                 'ch4_diffusion': 238.65463850593412,\n",
      "                 'ch4_ebullition': 210.60761679419937,\n",
      "                 'ch4_net': 449.26225530013346,\n",
      "                 'ch4_preimp': 0.0,\n",
      "                 'ch4_profile': [995.2125078401448,\n",
      "                                 899.0871132371035,\n",
      "                                 795.3182760637874,\n",
      "                                 632.3439435502227,\n",
      "                                 514.7948699013089,\n",
      "                                 430.0098334933974,\n",
      "                                 368.8566301924427,\n",
      "                                 307.5449373217607,\n",
      "                                 269.9877286146468,\n",
      "                                 241.49926006681994],\n",
      "                 'ch4_total_lifetime': 1985.4696110734096,\n",
      "                 'ch4_total_per_year': 19854.696110734098,\n",
      "                 'co2_diffusion': 1001.8691408378094,\n",
      "                 'co2_diffusion_nonanthro': 687.6511089825283,\n",
      "                 'co2_minus_nonanthro': 314.2180318552811,\n",
      "                 'co2_net': 701.7846985219478,\n",
      "                 'co2_preimp': -387.5666666666667,\n",
      "                 'co2_profile': [2843.0875625989893,\n",
      "                                 1547.941426805347,\n",
      "                                 1170.087559492952,\n",
      "                                 869.4910225180519,\n",
      "                                 723.0156731059005,\n",
      "                                 630.3555104641342,\n",
      "                                 564.302198679944,\n",
      "                                 492.6116914899196,\n",
      "                                 440.11448606382885,\n",
      "                                 387.5666666666667],\n",
      "                 'co2_total_lifetime': 3101.4672966478965,\n",
      "                 'co2_total_per_year': 31014.672966478964,\n",
      "                 'n2o_mean': 2.929791544898492,\n",
      "                 'n2o_methodA': 3.6100903829982802,\n",
      "                 'n2o_methodB': 2.2494927067987036,\n",
      "                 'n2o_profile': [3.6100903829982802,\n",
      "                                 3.6100903829982802,\n",
      "                                 3.6100903829982802,\n",
      "                                 3.6100903829982802,\n",
      "                                 3.6100903829982802,\n",
      "                                 3.6100903829982802,\n",
      "                                 3.6100903829982802,\n",
      "                                 3.6100903829982802,\n",
      "                                 3.6100903829982802,\n",
      "                                 3.6100903829982802],\n",
      "                 'n2o_total_lifetime': 15.954433438622601,\n",
      "                 'n2o_total_per_year': 159.544334386226},\n",
      " 'Reservoir 4': {'ch4_degassing': 0.0,\n",
      "                 'ch4_diffusion': 114.55798902807442,\n",
      "                 'ch4_ebullition': 35.770362020378734,\n",
      "                 'ch4_net': 150.32835104845316,\n",
      "                 'ch4_preimp': 0.0,\n",
      "                 'ch4_profile': [412.3930795276272,\n",
      "                                 366.25137463895084,\n",
      "                                 316.44069681271134,\n",
      "                                 238.2104478101028,\n",
      "                                 181.7850392212071,\n",
      "                                 141.08688505429816,\n",
      "                                 111.73238334991092,\n",
      "                                 82.30180415336366,\n",
      "                                 64.27375186018486,\n",
      "                                 50.5988378180367],\n",
      "                 'ch4_total_lifetime': 3972.0508555777537,\n",
      "                 'ch4_total_per_year': 39720.50855577754,\n",
      "                 'co2_diffusion': 556.5994481893181,\n",
      "                 'co2_diffusion_nonanthro': 382.0321559024945,\n",
      "                 'co2_minus_nonanthro': 174.5672922868236,\n",
      "                 'co2_net': 349.0749589534903,\n",
      "                 'co2_preimp': -174.5076666666667,\n",
      "                 'co2_profile': [1538.6993759255602,\n",
      "                                 819.1666594028836,\n",
      "                                 609.245777054511,\n",
      "                                 442.2460564443576,\n",
      "                                 360.8700609845472,\n",
      "                                 309.3916859221016,\n",
      "                                 272.6950402310161,\n",
      "                                 232.8665884743208,\n",
      "                                 203.70118714535295,\n",
      "                                 174.5076666666667],\n",
      "                 'co2_total_lifetime': 9223.433102948598,\n",
      "                 'co2_total_per_year': 92234.33102948598,\n",
      "                 'n2o_mean': 0.0035568256933053745,\n",
      "                 'n2o_methodA': 0.003956510851593258,\n",
      "                 'n2o_methodB': 0.0031571405350174914,\n",
      "                 'n2o_profile': [0.003956510851593258,\n",
      "                                 0.003956510851593258,\n",
      "                                 0.003956510851593258,\n",
      "                                 0.003956510851593258,\n",
      "                                 0.003956510851593258,\n",
      "                                 0.003956510851593258,\n",
      "                                 0.003956510851593258,\n",
      "                                 0.003956510851593258,\n",
      "                                 0.003956510851593258,\n",
      "                                 0.003956510851593258],\n",
      "                 'n2o_total_lifetime': 0.10454090797622287,\n",
      "                 'n2o_total_per_year': 1.0454090797622286}}\n"
     ]
    }
   ],
   "source": [
    "pprint.pprint(model.outputs)"
   ]
  },
  {
   "cell_type": "markdown",
   "metadata": {},
   "source": [
    "<a href=\"https://colab.research.google.com/github/tomjanus/re-emission/blob/master/docs/notebooks/02-Automatic-Calculation-Of-Emissions-For-Batches-Of-Reservoirs.ipynb\"><img align=\"left\" src=\"https://colab.research.google.com/assets/colab-badge.svg\" alt=\"Open in Colab\" title=\"Open and Execute in Google Colaboratory\"></a>"
   ]
  }
 ],
 "metadata": {
  "kernelspec": {
   "display_name": "Python 3 (ipykernel)",
   "language": "python",
   "name": "python3"
  },
  "language_info": {
   "codemirror_mode": {
    "name": "ipython",
    "version": 3
   },
   "file_extension": ".py",
   "mimetype": "text/x-python",
   "name": "python",
   "nbconvert_exporter": "python",
   "pygments_lexer": "ipython3",
   "version": "3.11.13"
  },
  "latex_envs": {
   "LaTeX_envs_menu_present": true,
   "autoclose": false,
   "autocomplete": true,
   "bibliofile": "biblio.bib",
   "cite_by": "apalike",
   "current_citInitial": 1,
   "eqLabelWithNumbers": true,
   "eqNumInitial": 1,
   "hotkeys": {
    "equation": "Ctrl-E",
    "itemize": "Ctrl-I"
   },
   "labels_anchors": false,
   "latex_user_defs": false,
   "report_style_numbering": false,
   "user_envs_cfg": false
  },
  "varInspector": {
   "cols": {
    "lenName": 16,
    "lenType": 16,
    "lenVar": 40
   },
   "kernels_config": {
    "python": {
     "delete_cmd_postfix": "",
     "delete_cmd_prefix": "del ",
     "library": "var_list.py",
     "varRefreshCmd": "print(var_dic_list())"
    },
    "r": {
     "delete_cmd_postfix": ") ",
     "delete_cmd_prefix": "rm(",
     "library": "var_list.r",
     "varRefreshCmd": "cat(var_dic_list()) "
    }
   },
   "types_to_exclude": [
    "module",
    "function",
    "builtin_function_or_method",
    "instance",
    "_Feature"
   ],
   "window_display": false
  }
 },
 "nbformat": 4,
 "nbformat_minor": 4
}
