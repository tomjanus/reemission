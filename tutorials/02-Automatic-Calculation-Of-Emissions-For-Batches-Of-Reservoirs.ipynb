{
 "cells": [
  {
   "cell_type": "markdown",
   "metadata": {},
   "source": [
    "<div>\n",
    "    <h1 style=\"text-align:center\"> Automatic calculation of emissions for batches of reservoirs</h1>\n",
    "    <h3 style=\"text-align:center\"> Input data is defined in JSON file whilst outputs data configuration is specified in YAML config file. </h3>\n",
    "    <h3> This notebook demonstrates how to: </h3>\n",
    " <ol>\n",
    "  <li>Read input data in JSON format and output configuration YAML file</li>\n",
    "  <li>Instantiate the emission model object from input data output configuration file</li>\n",
    "  <li>Calculate emissions</li>\n",
    "  <li>Display model ouptputs</li>\n",
    "</ol> \n",
    "</div>"
   ]
  },
  {
   "cell_type": "markdown",
   "metadata": {},
   "source": [
    "### Import the required libraries and RE-Emission classes"
   ]
  },
  {
   "cell_type": "code",
   "execution_count": 1,
   "metadata": {
    "execution": {
     "iopub.execute_input": "2025-06-26T23:32:42.862071Z",
     "iopub.status.busy": "2025-06-26T23:32:42.861901Z",
     "iopub.status.idle": "2025-06-26T23:32:43.667465Z",
     "shell.execute_reply": "2025-06-26T23:32:43.666957Z"
    }
   },
   "outputs": [],
   "source": [
    "from os.path import exists\n",
    "import pathlib\n",
    "import gdown\n",
    "import pprint\n",
    "# Import reemission\n",
    "try:\n",
    "    import reemission\n",
    "except ImportError:\n",
    "    %pip install git+https://github.com/tomjanus/reemission.git --quiet\n",
    "# Import package file loader\n",
    "from reemission.utils import get_package_file\n",
    "# Import from the model module\n",
    "from reemission.model import EmissionModel\n",
    "# Import from the input module\n",
    "from reemission.input import Inputs\n",
    "# Import from the presenter module\n",
    "from reemission.presenter import LatexWriter, JSONWriter"
   ]
  },
  {
   "cell_type": "markdown",
   "metadata": {},
   "source": [
    "### 1. Read input data and output configuration YAML file"
   ]
  },
  {
   "cell_type": "code",
   "execution_count": 2,
   "metadata": {
    "execution": {
     "iopub.execute_input": "2025-06-26T23:32:43.669631Z",
     "iopub.status.busy": "2025-06-26T23:32:43.669206Z",
     "iopub.status.idle": "2025-06-26T23:32:43.673025Z",
     "shell.execute_reply": "2025-06-26T23:32:43.672608Z"
    }
   },
   "outputs": [],
   "source": [
    "if not exists(pathlib.Path('./inputs.json')):\n",
    "    # Download the required input file from an external link\n",
    "    !gdown 1T9Pal8h9Ce6phw1qdPM5AkuZM_hnvBGT\n",
    "input_data = Inputs.fromfile('inputs.json')\n",
    "output_config = get_package_file('config', 'outputs.yaml').as_posix()"
   ]
  },
  {
   "cell_type": "markdown",
   "metadata": {},
   "source": [
    "### 2. Instantiate the emission model object from input data output configuration file"
   ]
  },
  {
   "cell_type": "code",
   "execution_count": 3,
   "metadata": {
    "execution": {
     "iopub.execute_input": "2025-06-26T23:32:43.674762Z",
     "iopub.status.busy": "2025-06-26T23:32:43.674414Z",
     "iopub.status.idle": "2025-06-26T23:32:43.693145Z",
     "shell.execute_reply": "2025-06-26T23:32:43.692660Z"
    }
   },
   "outputs": [],
   "source": [
    "model = EmissionModel(inputs=input_data, presenter_config=output_config, p_model='g-res')"
   ]
  },
  {
   "cell_type": "markdown",
   "metadata": {},
   "source": [
    "### 3. Calculate emissions"
   ]
  },
  {
   "cell_type": "code",
   "execution_count": 4,
   "metadata": {
    "execution": {
     "iopub.execute_input": "2025-06-26T23:32:43.694906Z",
     "iopub.status.busy": "2025-06-26T23:32:43.694564Z",
     "iopub.status.idle": "2025-06-26T23:32:43.731071Z",
     "shell.execute_reply": "2025-06-26T23:32:43.730459Z"
    }
   },
   "outputs": [],
   "source": [
    "model.calculate()"
   ]
  },
  {
   "cell_type": "markdown",
   "metadata": {},
   "source": [
    "### 4. Display outputs dictionary"
   ]
  },
  {
   "cell_type": "code",
   "execution_count": 5,
   "metadata": {
    "execution": {
     "iopub.execute_input": "2025-06-26T23:32:43.732929Z",
     "iopub.status.busy": "2025-06-26T23:32:43.732480Z",
     "iopub.status.idle": "2025-06-26T23:32:43.739220Z",
     "shell.execute_reply": "2025-06-26T23:32:43.738765Z"
    }
   },
   "outputs": [
    {
     "name": "stdout",
     "output_type": "stream",
     "text": [
      "{'Reservoir 1': {'ch4_degassing': 4247.529844440521,\n",
      "                 'ch4_diffusion': 229.50728895021928,\n",
      "                 'ch4_ebullition': 321.2319562880549,\n",
      "                 'ch4_net': 4798.269089678795,\n",
      "                 'ch4_preimp': 0.0,\n",
      "                 'ch4_profile': [15037.538803908017,\n",
      "                                 13234.917873312756,\n",
      "                                 11288.903866240284,\n",
      "                                 8232.44194734772,\n",
      "                                 6027.752360164751,\n",
      "                                 4437.463880888554,\n",
      "                                 3290.355706291948,\n",
      "                                 2140.182925317766,\n",
      "                                 1435.5616063934115,\n",
      "                                 901.0218112214025],\n",
      "                 'ch4_total_lifetime': 769.6423619844787,\n",
      "                 'ch4_total_per_year': 7696.423619844788,\n",
      "                 'co2_diffusion': 572.7646642529623,\n",
      "                 'co2_diffusion_nonanthro': 393.12744599578104,\n",
      "                 'co2_minus_nonanthro': 179.6372182571813,\n",
      "                 'co2_net': 311.6372182571813,\n",
      "                 'co2_preimp': -132.00000000000003,\n",
      "                 'co2_profile': [1535.8116797855287,\n",
      "                                 795.3817060605891,\n",
      "                                 579.3641298860341,\n",
      "                                 407.51426690686856,\n",
      "                                 323.7748832811502,\n",
      "                                 270.8014311786585,\n",
      "                                 233.03901151252305,\n",
      "                                 192.05382930950483,\n",
      "                                 162.0413825592751,\n",
      "                                 132.00000000000003],\n",
      "                 'co2_total_lifetime': 49.98660980845189,\n",
      "                 'co2_total_per_year': 499.86609808451885,\n",
      "                 'n2o_mean': 0.04569849137014073,\n",
      "                 'n2o_methodA': 0.043280912406044016,\n",
      "                 'n2o_methodB': 0.048116070334237454,\n",
      "                 'n2o_profile': [0.043280912406044016,\n",
      "                                 0.043280912406044016,\n",
      "                                 0.043280912406044016,\n",
      "                                 0.043280912406044016,\n",
      "                                 0.043280912406044016,\n",
      "                                 0.043280912406044016,\n",
      "                                 0.043280912406044016,\n",
      "                                 0.043280912406044016,\n",
      "                                 0.043280912406044016,\n",
      "                                 0.043280912406044016],\n",
      "                 'n2o_total_lifetime': 0.00694225834992946,\n",
      "                 'n2o_total_per_year': 0.0694225834992946},\n",
      " 'Reservoir 2': {'ch4_degassing': 827.4542257275465,\n",
      "                 'ch4_diffusion': 136.10915204619948,\n",
      "                 'ch4_ebullition': 90.94433704616341,\n",
      "                 'ch4_net': 1054.5077148199093,\n",
      "                 'ch4_preimp': 0.0,\n",
      "                 'ch4_profile': [3258.2891678085275,\n",
      "                                 2870.3097742242635,\n",
      "                                 2451.4689517569577,\n",
      "                                 1793.6292798288143,\n",
      "                                 1319.1187852130984,\n",
      "                                 976.8466188494463,\n",
      "                                 729.9601173612991,\n",
      "                                 482.4159071534167,\n",
      "                                 330.7662555693782,\n",
      "                                 215.72302098425348],\n",
      "                 'ch4_total_lifetime': 1832.5235068140385,\n",
      "                 'ch4_total_per_year': 18325.235068140384,\n",
      "                 'co2_diffusion': 796.9654854957547,\n",
      "                 'co2_diffusion_nonanthro': 547.0117579064897,\n",
      "                 'co2_minus_nonanthro': 249.953727589265,\n",
      "                 'co2_net': 378.8003942559317,\n",
      "                 'co2_preimp': -128.8466666666667,\n",
      "                 'co2_profile': [2082.161049955455,\n",
      "                                 1051.8999840865445,\n",
      "                                 751.3253096762252,\n",
      "                                 512.2071900900598,\n",
      "                                 395.68918070233053,\n",
      "                                 321.98000203239394,\n",
      "                                 269.43600446933124,\n",
      "                                 212.40773846209936,\n",
      "                                 170.6473337304127,\n",
      "                                 128.8466666666667],\n",
      "                 'co2_total_lifetime': 658.279325137958,\n",
      "                 'co2_total_per_year': 6582.79325137958,\n",
      "                 'n2o_mean': 0.3184910807620064,\n",
      "                 'n2o_methodA': 0.35553527541406443,\n",
      "                 'n2o_methodB': 0.2814468861099484,\n",
      "                 'n2o_profile': [0.35553527541406443,\n",
      "                                 0.35553527541406443,\n",
      "                                 0.35553527541406443,\n",
      "                                 0.35553527541406443,\n",
      "                                 0.35553527541406443,\n",
      "                                 0.35553527541406443,\n",
      "                                 0.35553527541406443,\n",
      "                                 0.35553527541406443,\n",
      "                                 0.35553527541406443,\n",
      "                                 0.35553527541406443],\n",
      "                 'n2o_total_lifetime': 0.6178492016145611,\n",
      "                 'n2o_total_per_year': 6.178492016145611},\n",
      " 'Reservoir 3': {'ch4_degassing': 847.6508199549853,\n",
      "                 'ch4_diffusion': 238.65463850593412,\n",
      "                 'ch4_ebullition': 210.60761679419937,\n",
      "                 'ch4_net': 1296.9130752551187,\n",
      "                 'ch4_preimp': 0.0,\n",
      "                 'ch4_profile': [3781.469556760416,\n",
      "                                 3344.0551177505276,\n",
      "                                 2871.8481344638835,\n",
      "                                 2130.1934484630237,\n",
      "                                 1595.228714997142,\n",
      "                                 1209.352010260699,\n",
      "                                 931.0143515978866,\n",
      "                                 651.9370369875498,\n",
      "                                 480.97107687442974,\n",
      "                                 351.2754567775871],\n",
      "                 'ch4_total_lifetime': 5731.577644782472,\n",
      "                 'ch4_total_per_year': 57315.77644782472,\n",
      "                 'co2_diffusion': 1001.8691408378094,\n",
      "                 'co2_diffusion_nonanthro': 687.6511089825283,\n",
      "                 'co2_minus_nonanthro': 314.2180318552811,\n",
      "                 'co2_net': 701.7846985219478,\n",
      "                 'co2_preimp': -387.5666666666667,\n",
      "                 'co2_profile': [2843.0875625989893,\n",
      "                                 1547.941426805347,\n",
      "                                 1170.087559492952,\n",
      "                                 869.4910225180519,\n",
      "                                 723.0156731059005,\n",
      "                                 630.3555104641342,\n",
      "                                 564.302198679944,\n",
      "                                 492.6116914899196,\n",
      "                                 440.11448606382885,\n",
      "                                 387.5666666666667],\n",
      "                 'co2_total_lifetime': 3101.4672966478965,\n",
      "                 'co2_total_per_year': 31014.672966478964,\n",
      "                 'n2o_mean': 2.929791544898492,\n",
      "                 'n2o_methodA': 3.6100903829982802,\n",
      "                 'n2o_methodB': 2.2494927067987036,\n",
      "                 'n2o_profile': [3.6100903829982802,\n",
      "                                 3.6100903829982802,\n",
      "                                 3.6100903829982802,\n",
      "                                 3.6100903829982802,\n",
      "                                 3.6100903829982802,\n",
      "                                 3.6100903829982802,\n",
      "                                 3.6100903829982802,\n",
      "                                 3.6100903829982802,\n",
      "                                 3.6100903829982802,\n",
      "                                 3.6100903829982802],\n",
      "                 'n2o_total_lifetime': 15.954433438622601,\n",
      "                 'n2o_total_per_year': 159.544334386226},\n",
      " 'Reservoir 4': {'ch4_degassing': 485.87517473985247,\n",
      "                 'ch4_diffusion': 114.55798902807442,\n",
      "                 'ch4_ebullition': 35.770362020378734,\n",
      "                 'ch4_net': 636.2035257883056,\n",
      "                 'ch4_preimp': 0.0,\n",
      "                 'ch4_profile': [2009.4812892531536,\n",
      "                                 1767.7120096789718,\n",
      "                                 1506.711836827945,\n",
      "                                 1096.7808317473907,\n",
      "                                 801.0919176227009,\n",
      "                                 587.807406529236,\n",
      "                                 433.9623330994227,\n",
      "                                 279.70805642717863,\n",
      "                                 185.20983637711493,\n",
      "                                 113.5227771377119],\n",
      "                 'ch4_total_lifetime': 16810.087660141504,\n",
      "                 'ch4_total_per_year': 168100.87660141505,\n",
      "                 'co2_diffusion': 556.5994481893181,\n",
      "                 'co2_diffusion_nonanthro': 382.0321559024945,\n",
      "                 'co2_minus_nonanthro': 174.5672922868236,\n",
      "                 'co2_net': 347.15729228682363,\n",
      "                 'co2_preimp': -172.59000000000003,\n",
      "                 'co2_profile': [1536.7817092588934,\n",
      "                                 817.248992736217,\n",
      "                                 607.3281103878444,\n",
      "                                 440.3283897776909,\n",
      "                                 358.95239431788053,\n",
      "                                 307.47401925543494,\n",
      "                                 270.77737356434943,\n",
      "                                 230.94892180765413,\n",
      "                                 201.78352047868628,\n",
      "                                 172.59000000000003],\n",
      "                 'co2_total_lifetime': 9172.763555448599,\n",
      "                 'co2_total_per_year': 91727.63555448598,\n",
      "                 'n2o_mean': 0.0035568256933053745,\n",
      "                 'n2o_methodA': 0.003956510851593258,\n",
      "                 'n2o_methodB': 0.0031571405350174914,\n",
      "                 'n2o_profile': [0.003956510851593258,\n",
      "                                 0.003956510851593258,\n",
      "                                 0.003956510851593258,\n",
      "                                 0.003956510851593258,\n",
      "                                 0.003956510851593258,\n",
      "                                 0.003956510851593258,\n",
      "                                 0.003956510851593258,\n",
      "                                 0.003956510851593258,\n",
      "                                 0.003956510851593258,\n",
      "                                 0.003956510851593258],\n",
      "                 'n2o_total_lifetime': 0.10454090797622287,\n",
      "                 'n2o_total_per_year': 1.0454090797622286}}\n"
     ]
    }
   ],
   "source": [
    "pprint.pprint(model.outputs)"
   ]
  },
  {
   "cell_type": "markdown",
   "metadata": {},
   "source": [
    "<a href=\"https://colab.research.google.com/github/tomjanus/re-emission/blob/master/docs/notebooks/02-Automatic-Calculation-Of-Emissions-For-Batches-Of-Reservoirs.ipynb\"><img align=\"left\" src=\"https://colab.research.google.com/assets/colab-badge.svg\" alt=\"Open in Colab\" title=\"Open and Execute in Google Colaboratory\"></a>"
   ]
  }
 ],
 "metadata": {
  "kernelspec": {
   "display_name": "reemission_deploy",
   "language": "python",
   "name": "python3"
  },
  "language_info": {
   "codemirror_mode": {
    "name": "ipython",
    "version": 3
   },
   "file_extension": ".py",
   "mimetype": "text/x-python",
   "name": "python",
   "nbconvert_exporter": "python",
   "pygments_lexer": "ipython3",
   "version": "3.11.13"
  },
  "latex_envs": {
   "LaTeX_envs_menu_present": true,
   "autoclose": false,
   "autocomplete": true,
   "bibliofile": "biblio.bib",
   "cite_by": "apalike",
   "current_citInitial": 1,
   "eqLabelWithNumbers": true,
   "eqNumInitial": 1,
   "hotkeys": {
    "equation": "Ctrl-E",
    "itemize": "Ctrl-I"
   },
   "labels_anchors": false,
   "latex_user_defs": false,
   "report_style_numbering": false,
   "user_envs_cfg": false
  },
  "varInspector": {
   "cols": {
    "lenName": 16,
    "lenType": 16,
    "lenVar": 40
   },
   "kernels_config": {
    "python": {
     "delete_cmd_postfix": "",
     "delete_cmd_prefix": "del ",
     "library": "var_list.py",
     "varRefreshCmd": "print(var_dic_list())"
    },
    "r": {
     "delete_cmd_postfix": ") ",
     "delete_cmd_prefix": "rm(",
     "library": "var_list.r",
     "varRefreshCmd": "cat(var_dic_list()) "
    }
   },
   "types_to_exclude": [
    "module",
    "function",
    "builtin_function_or_method",
    "instance",
    "_Feature"
   ],
   "window_display": false
  }
 },
 "nbformat": 4,
 "nbformat_minor": 4
}
