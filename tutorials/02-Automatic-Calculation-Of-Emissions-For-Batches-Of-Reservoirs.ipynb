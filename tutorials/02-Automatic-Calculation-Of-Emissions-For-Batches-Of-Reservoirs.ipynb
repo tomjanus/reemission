{
 "cells": [
  {
   "cell_type": "markdown",
   "metadata": {},
   "source": [
    "<div>\n",
    "    <h1 style=\"text-align:center\"> Automatic calculation of emissions for batches of reservoirs</h1>\n",
    "    <h3 style=\"text-align:center\"> Input data is defined in JSON file whilst outputs data configuration is specified in YAML config file. </h3>\n",
    "    <h3> This notebook demonstrates how to: </h3>\n",
    " <ol>\n",
    "  <li>Read input data in JSON format and output configuration YAML file</li>\n",
    "  <li>Instantiate the emission model object from input data output configuration file</li>\n",
    "  <li>Calculate emissions</li>\n",
    "  <li>Display model ouptputs</li>\n",
    "</ol> \n",
    "</div>"
   ]
  },
  {
   "cell_type": "markdown",
   "metadata": {},
   "source": [
    "### Import the required libraries and RE-Emission classes"
   ]
  },
  {
   "cell_type": "code",
   "execution_count": 1,
   "metadata": {
    "execution": {
     "iopub.execute_input": "2025-06-09T16:45:01.601764Z",
     "iopub.status.busy": "2025-06-09T16:45:01.601351Z",
     "iopub.status.idle": "2025-06-09T16:45:02.428274Z",
     "shell.execute_reply": "2025-06-09T16:45:02.427733Z"
    }
   },
   "outputs": [],
   "source": [
    "from os.path import exists\n",
    "import pathlib\n",
    "import gdown\n",
    "import pprint\n",
    "# Import reemission\n",
    "try:\n",
    "    import reemission\n",
    "except ImportError:\n",
    "    %pip install git+https://github.com/tomjanus/reemission.git --quiet\n",
    "# Import package file loader\n",
    "from reemission.utils import get_package_file\n",
    "# Import from the model module\n",
    "from reemission.model import EmissionModel\n",
    "# Import from the input module\n",
    "from reemission.input import Inputs\n",
    "# Import from the presenter module\n",
    "from reemission.presenter import LatexWriter, JSONWriter"
   ]
  },
  {
   "cell_type": "markdown",
   "metadata": {},
   "source": [
    "### 1. Read input data and output configuration YAML file"
   ]
  },
  {
   "cell_type": "code",
   "execution_count": 2,
   "metadata": {
    "execution": {
     "iopub.execute_input": "2025-06-09T16:45:02.430393Z",
     "iopub.status.busy": "2025-06-09T16:45:02.430151Z",
     "iopub.status.idle": "2025-06-09T16:45:02.434066Z",
     "shell.execute_reply": "2025-06-09T16:45:02.433582Z"
    }
   },
   "outputs": [],
   "source": [
    "if not exists(pathlib.Path('./inputs.json')):\n",
    "    # Download the required input file from an external link\n",
    "    !gdown 1T9Pal8h9Ce6phw1qdPM5AkuZM_hnvBGT\n",
    "input_data = Inputs.fromfile('inputs.json')\n",
    "output_config = get_package_file('config', 'outputs.yaml').as_posix()"
   ]
  },
  {
   "cell_type": "markdown",
   "metadata": {},
   "source": [
    "### 2. Instantiate the emission model object from input data output configuration file"
   ]
  },
  {
   "cell_type": "code",
   "execution_count": 3,
   "metadata": {
    "execution": {
     "iopub.execute_input": "2025-06-09T16:45:02.435543Z",
     "iopub.status.busy": "2025-06-09T16:45:02.435372Z",
     "iopub.status.idle": "2025-06-09T16:45:02.453749Z",
     "shell.execute_reply": "2025-06-09T16:45:02.453295Z"
    }
   },
   "outputs": [],
   "source": [
    "model = EmissionModel(inputs=input_data, presenter_config=output_config, p_model='g-res')"
   ]
  },
  {
   "cell_type": "markdown",
   "metadata": {},
   "source": [
    "### 3. Calculate emissions"
   ]
  },
  {
   "cell_type": "code",
   "execution_count": 4,
   "metadata": {
    "execution": {
     "iopub.execute_input": "2025-06-09T16:45:02.455285Z",
     "iopub.status.busy": "2025-06-09T16:45:02.455119Z",
     "iopub.status.idle": "2025-06-09T16:45:02.491800Z",
     "shell.execute_reply": "2025-06-09T16:45:02.491209Z"
    }
   },
   "outputs": [],
   "source": [
    "model.calculate()"
   ]
  },
  {
   "cell_type": "markdown",
   "metadata": {},
   "source": [
    "### 4. Display outputs dictionary"
   ]
  },
  {
   "cell_type": "code",
   "execution_count": 5,
   "metadata": {
    "execution": {
     "iopub.execute_input": "2025-06-09T16:45:02.493517Z",
     "iopub.status.busy": "2025-06-09T16:45:02.493345Z",
     "iopub.status.idle": "2025-06-09T16:45:02.500578Z",
     "shell.execute_reply": "2025-06-09T16:45:02.500110Z"
    }
   },
   "outputs": [
    {
     "name": "stdout",
     "output_type": "stream",
     "text": [
      "{'Reservoir 1': {'ch4_degassing': 3857.2376263191973,\n",
      "                 'ch4_diffusion': 222.12962473141053,\n",
      "                 'ch4_ebullition': 321.2319562880549,\n",
      "                 'ch4_net': 4400.599207338662,\n",
      "                 'ch4_preimp': 0.0,\n",
      "                 'ch4_profile': [np.float64(13754.635020558859),\n",
      "                                 np.float64(12109.157167073025),\n",
      "                                 np.float64(10332.78676548272),\n",
      "                                 np.float64(7542.772342928074),\n",
      "                                 np.float64(5530.277560390243),\n",
      "                                 np.float64(4078.6236843295933),\n",
      "                                 np.float64(3031.5158882251035),\n",
      "                                 np.float64(1981.6110779040414),\n",
      "                                 np.float64(1338.4164647378564),\n",
      "                                 np.float64(850.476475450426)],\n",
      "                 'ch4_total_lifetime': 705.8561128571215,\n",
      "                 'ch4_total_per_year': 7058.561128571215,\n",
      "                 'co2_diffusion': 572.839572429027,\n",
      "                 'co2_diffusion_nonanthro': 393.12744599578104,\n",
      "                 'co2_minus_nonanthro': 179.712126433246,\n",
      "                 'co2_net': 311.712126433246,\n",
      "                 'co2_preimp': -132.00000000000003,\n",
      "                 'co2_profile': [1535.8116797855287,\n",
      "                                 795.3817060605891,\n",
      "                                 579.3641298860341,\n",
      "                                 407.51426690686856,\n",
      "                                 323.7748832811502,\n",
      "                                 270.8014311786585,\n",
      "                                 233.03901151252305,\n",
      "                                 192.05382930950483,\n",
      "                                 162.0413825592751,\n",
      "                                 132.00000000000003],\n",
      "                 'co2_total_lifetime': 49.99862507989266,\n",
      "                 'co2_total_per_year': 499.9862507989266,\n",
      "                 'n2o_mean': 0.04569849137014073,\n",
      "                 'n2o_methodA': 0.043280912406044016,\n",
      "                 'n2o_methodB': 0.048116070334237454,\n",
      "                 'n2o_profile': [0.043280912406044016,\n",
      "                                 0.043280912406044016,\n",
      "                                 0.043280912406044016,\n",
      "                                 0.043280912406044016,\n",
      "                                 0.043280912406044016,\n",
      "                                 0.043280912406044016,\n",
      "                                 0.043280912406044016,\n",
      "                                 0.043280912406044016,\n",
      "                                 0.043280912406044016,\n",
      "                                 0.043280912406044016],\n",
      "                 'n2o_total_lifetime': 0.00694225834992946,\n",
      "                 'n2o_total_per_year': 0.0694225834992946},\n",
      " 'Reservoir 2': {'ch4_degassing': 751.4220477369057,\n",
      "                 'ch4_diffusion': 131.73383296375653,\n",
      "                 'ch4_ebullition': 90.94433704616341,\n",
      "                 'ch4_net': 974.1002177468256,\n",
      "                 'ch4_preimp': 0.0,\n",
      "                 'ch4_profile': [np.float64(3008.368815130247),\n",
      "                                 np.float64(2651.0022030825776),\n",
      "                                 np.float64(2265.209369296882),\n",
      "                                 np.float64(1659.2758910516159),\n",
      "                                 np.float64(1222.2065467257914),\n",
      "                                 np.float64(906.9415568774284),\n",
      "                                 np.float64(679.5359628315111),\n",
      "                                 np.float64(451.52478924976106),\n",
      "                                 np.float64(311.84157206727167),\n",
      "                                 np.float64(205.87636817515)],\n",
      "                 'ch4_total_lifetime': 1692.7913584004336,\n",
      "                 'ch4_total_per_year': 16927.913584004335,\n",
      "                 'co2_diffusion': 797.0697154432896,\n",
      "                 'co2_diffusion_nonanthro': 547.0117579064897,\n",
      "                 'co2_minus_nonanthro': 250.0579575367999,\n",
      "                 'co2_net': 378.9046242034666,\n",
      "                 'co2_preimp': -128.8466666666667,\n",
      "                 'co2_profile': [2082.161049955455,\n",
      "                                 1051.8999840865445,\n",
      "                                 751.3253096762252,\n",
      "                                 512.2071900900598,\n",
      "                                 395.68918070233053,\n",
      "                                 321.98000203239394,\n",
      "                                 269.43600446933124,\n",
      "                                 212.40773846209936,\n",
      "                                 170.6473337304127,\n",
      "                                 128.8466666666667],\n",
      "                 'co2_total_lifetime': 658.4604559407842,\n",
      "                 'co2_total_per_year': 6584.604559407842,\n",
      "                 'n2o_mean': 0.3184910807620064,\n",
      "                 'n2o_methodA': 0.35553527541406443,\n",
      "                 'n2o_methodB': 0.2814468861099484,\n",
      "                 'n2o_profile': [0.35553527541406443,\n",
      "                                 0.35553527541406443,\n",
      "                                 0.35553527541406443,\n",
      "                                 0.35553527541406443,\n",
      "                                 0.35553527541406443,\n",
      "                                 0.35553527541406443,\n",
      "                                 0.35553527541406443,\n",
      "                                 0.35553527541406443,\n",
      "                                 0.35553527541406443,\n",
      "                                 0.35553527541406443],\n",
      "                 'n2o_total_lifetime': 0.6178492016145611,\n",
      "                 'n2o_total_per_year': 6.178492016145611},\n",
      " 'Reservoir 3': {'ch4_degassing': 769.7628401575995,\n",
      "                 'ch4_diffusion': 230.9829266609136,\n",
      "                 'ch4_ebullition': 210.60761679419937,\n",
      "                 'ch4_net': 1211.3533836127126,\n",
      "                 'ch4_preimp': 0.0,\n",
      "                 'ch4_profile': [np.float64(3525.449120482008),\n",
      "                                 np.float64(3119.3946631651015),\n",
      "                                 np.float64(2681.0423075216954),\n",
      "                                 np.float64(1992.5607473180307),\n",
      "                                 np.float64(1495.9510318779244),\n",
      "                                 np.float64(1137.7406978071517),\n",
      "                                 np.float64(879.3594387292871),\n",
      "                                 np.float64(620.2919252626856),\n",
      "                                 np.float64(461.58447760503304),\n",
      "                                 np.float64(341.18846577804305)],\n",
      "                 'ch4_total_lifetime': 5353.455143538023,\n",
      "                 'ch4_total_per_year': 53534.55143538022,\n",
      "                 'co2_diffusion': 1002.0001688056286,\n",
      "                 'co2_diffusion_nonanthro': 687.6511089825283,\n",
      "                 'co2_minus_nonanthro': 314.34905982310033,\n",
      "                 'co2_net': 701.915726489767,\n",
      "                 'co2_preimp': -387.5666666666667,\n",
      "                 'co2_profile': [2843.0875625989893,\n",
      "                                 1547.941426805347,\n",
      "                                 1170.087559492952,\n",
      "                                 869.4910225180519,\n",
      "                                 723.0156731059005,\n",
      "                                 630.3555104641342,\n",
      "                                 564.302198679944,\n",
      "                                 492.6116914899196,\n",
      "                                 440.11448606382885,\n",
      "                                 387.5666666666667],\n",
      "                 'co2_total_lifetime': 3102.046361648877,\n",
      "                 'co2_total_per_year': 31020.463616488767,\n",
      "                 'n2o_mean': 2.929791544898492,\n",
      "                 'n2o_methodA': 3.6100903829982802,\n",
      "                 'n2o_methodB': 2.2494927067987036,\n",
      "                 'n2o_profile': [3.6100903829982802,\n",
      "                                 3.6100903829982802,\n",
      "                                 3.6100903829982802,\n",
      "                                 3.6100903829982802,\n",
      "                                 3.6100903829982802,\n",
      "                                 3.6100903829982802,\n",
      "                                 3.6100903829982802,\n",
      "                                 3.6100903829982802,\n",
      "                                 3.6100903829982802,\n",
      "                                 3.6100903829982802],\n",
      "                 'n2o_total_lifetime': 15.954433438622601,\n",
      "                 'n2o_total_per_year': 159.544334386226},\n",
      " 'Reservoir 4': {'ch4_degassing': 441.2296262388797,\n",
      "                 'ch4_diffusion': 110.87544639294957,\n",
      "                 'ch4_ebullition': 35.770362020378734,\n",
      "                 'ch4_net': 587.875434652208,\n",
      "                 'ch4_preimp': 0.0,\n",
      "                 'ch4_profile': [np.float64(1862.7298542455721),\n",
      "                                 np.float64(1638.9361799869444),\n",
      "                                 np.float64(1397.3415485860921),\n",
      "                                 np.float64(1017.8894874055144),\n",
      "                                 np.float64(744.185747655355),\n",
      "                                 np.float64(546.7596565210829),\n",
      "                                 np.float64(404.3536319392729),\n",
      "                                 np.float64(261.56901399718686),\n",
      "                                 np.float64(174.0973982293762),\n",
      "                                 np.float64(107.74089337245681)],\n",
      "                 'ch4_total_lifetime': 15533.138672097968,\n",
      "                 'ch4_total_per_year': 155331.38672097967,\n",
      "                 'co2_diffusion': 556.6722422216051,\n",
      "                 'co2_diffusion_nonanthro': 382.0321559024945,\n",
      "                 'co2_minus_nonanthro': 174.6400863191106,\n",
      "                 'co2_net': 347.2300863191106,\n",
      "                 'co2_preimp': -172.59000000000003,\n",
      "                 'co2_profile': [1536.7817092588934,\n",
      "                                 817.248992736217,\n",
      "                                 607.3281103878444,\n",
      "                                 440.3283897776909,\n",
      "                                 358.95239431788053,\n",
      "                                 307.47401925543494,\n",
      "                                 270.77737356434943,\n",
      "                                 230.94892180765413,\n",
      "                                 201.78352047868628,\n",
      "                                 172.59000000000003],\n",
      "                 'co2_total_lifetime': 9174.686955766701,\n",
      "                 'co2_total_per_year': 91746.86955766701,\n",
      "                 'n2o_mean': 0.0035568256933053745,\n",
      "                 'n2o_methodA': 0.003956510851593258,\n",
      "                 'n2o_methodB': 0.0031571405350174914,\n",
      "                 'n2o_profile': [0.003956510851593258,\n",
      "                                 0.003956510851593258,\n",
      "                                 0.003956510851593258,\n",
      "                                 0.003956510851593258,\n",
      "                                 0.003956510851593258,\n",
      "                                 0.003956510851593258,\n",
      "                                 0.003956510851593258,\n",
      "                                 0.003956510851593258,\n",
      "                                 0.003956510851593258,\n",
      "                                 0.003956510851593258],\n",
      "                 'n2o_total_lifetime': 0.10454090797622287,\n",
      "                 'n2o_total_per_year': 1.0454090797622286}}\n"
     ]
    }
   ],
   "source": [
    "pprint.pprint(model.outputs)"
   ]
  },
  {
   "cell_type": "markdown",
   "metadata": {},
   "source": [
    "<a href=\"https://colab.research.google.com/github/tomjanus/re-emission/blob/master/docs/notebooks/02-Automatic-Calculation-Of-Emissions-For-Batches-Of-Reservoirs.ipynb\"><img align=\"left\" src=\"https://colab.research.google.com/assets/colab-badge.svg\" alt=\"Open in Colab\" title=\"Open and Execute in Google Colaboratory\"></a>"
   ]
  }
 ],
 "metadata": {
  "kernelspec": {
   "display_name": "reemission_deploy",
   "language": "python",
   "name": "python3"
  },
  "language_info": {
   "codemirror_mode": {
    "name": "ipython",
    "version": 3
   },
   "file_extension": ".py",
   "mimetype": "text/x-python",
   "name": "python",
   "nbconvert_exporter": "python",
   "pygments_lexer": "ipython3",
   "version": "3.11.12"
  },
  "latex_envs": {
   "LaTeX_envs_menu_present": true,
   "autoclose": false,
   "autocomplete": true,
   "bibliofile": "biblio.bib",
   "cite_by": "apalike",
   "current_citInitial": 1,
   "eqLabelWithNumbers": true,
   "eqNumInitial": 1,
   "hotkeys": {
    "equation": "Ctrl-E",
    "itemize": "Ctrl-I"
   },
   "labels_anchors": false,
   "latex_user_defs": false,
   "report_style_numbering": false,
   "user_envs_cfg": false
  },
  "varInspector": {
   "cols": {
    "lenName": 16,
    "lenType": 16,
    "lenVar": 40
   },
   "kernels_config": {
    "python": {
     "delete_cmd_postfix": "",
     "delete_cmd_prefix": "del ",
     "library": "var_list.py",
     "varRefreshCmd": "print(var_dic_list())"
    },
    "r": {
     "delete_cmd_postfix": ") ",
     "delete_cmd_prefix": "rm(",
     "library": "var_list.r",
     "varRefreshCmd": "cat(var_dic_list()) "
    }
   },
   "types_to_exclude": [
    "module",
    "function",
    "builtin_function_or_method",
    "instance",
    "_Feature"
   ],
   "window_display": false
  }
 },
 "nbformat": 4,
 "nbformat_minor": 4
}
