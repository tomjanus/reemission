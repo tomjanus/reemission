{
 "cells": [
  {
   "cell_type": "markdown",
   "metadata": {},
   "source": [
    "</div>\n",
    "<div>\n",
    "<img src=\"graphics/logo-banner-bw.png\" width=\"500\"/>\n",
    "</div>\n",
    "<div>\n",
    "    <h1 style=\"text-align:center\"> A Step-By-Step Guide to GHG Calculations with RE-Emission </h1>\n",
    "    <h3> This notebook demonstrates how to: </h3>\n",
    " <ol>\n",
    "  <li>Manually construct input data structures for a hypotethical reservoir </li>\n",
    "  <li>Instantiate Catchment and Reservoir objects </li>\n",
    "     <li>Calculate $CO_2$, $CH_4$ and $N_2O$ <b>emission factors</b> </li>\n",
    "  <li>Calculate $CO_2$, $CH_4$ and $N_2O$ <b>emission profile</b> </li>\n",
    "</ol> \n",
    "</div>"
   ]
  },
  {
   "cell_type": "markdown",
   "metadata": {},
   "source": [
    "<!--NAVIGATION-->\n",
    "<font size=\"3\"> < [Contents](index.ipynb) | [Automatic Calculation of GHG Emissions](02-Automatic-Calculation-Of-Emissions-For-Batches-Of-Reservoirs.ipynb) > </font>\n",
    "\n",
    "<a href=\"https://colab.research.google.com/github/tomjanus/re-emission/blob/master/docs/notebooks/01-Step-By-Step-Manual-Calculations.ipynb\"><img align=\"left\" src=\"https://colab.research.google.com/assets/colab-badge.svg\" alt=\"Open in Colab\" title=\"Open and Execute in Google Colaboratory\"></a>"
   ]
  },
  {
   "cell_type": "markdown",
   "metadata": {},
   "source": [
    "### Import required libraries and RE-Emission classes"
   ]
  },
  {
   "cell_type": "code",
   "execution_count": null,
   "metadata": {},
   "outputs": [],
   "source": [
    "import sys\n",
    "import matplotlib.pyplot as plt\n",
    "try:\n",
    "    import reemission\n",
    "except ImportError:\n",
    "    %pip install git+https://github.com/tomjanus/reemission.git --quiet\n",
    "# Import from the temperature module\n",
    "from reemission.temperature import MonthlyTemperature\n",
    "# Import from the emissions module\n",
    "from reemission.emissions import CarbonDioxideEmission, NitrousOxideEmission, MethaneEmission\n",
    "# Import from the constants module\n",
    "from reemission.constants import Landuse, Climate, SoilType, Biome, TreatmentFactor, LanduseIntensity\n",
    "# Import from the catchment module\n",
    "from reemission.catchment import Catchment\n",
    "# Import from the reservoir module\n",
    "from reemission.reservoir import Reservoir\n",
    "# Import from the biogenic module\n",
    "from reemission.biogenic import BiogenicFactors"
   ]
  },
  {
   "cell_type": "markdown",
   "metadata": {},
   "source": [
    "### 1. Prepare Input Data"
   ]
  },
  {
   "cell_type": "code",
   "execution_count": null,
   "metadata": {},
   "outputs": [],
   "source": [
    "# Define a typical monthly temperature profile in the location where reservoir is situated\n",
    "mt = MonthlyTemperature([10.56,11.99,15.46,18.29,20.79,22.09,22.46,22.66,21.93,19.33,15.03,11.66])\n",
    "# Reservoir coordinates (lat, long)\n",
    "coordinates = [22.6, 94.7]\n",
    "# Define categorical properties of the catchment.\n",
    "# These properties define the biome, climate, type of soil, degree of wastewater treatment in the area\n",
    "# and agricultural land use intensity\n",
    "biogenic_factors = BiogenicFactors(\n",
    "    biome = Biome.TROPICALMOISTBROADLEAF,\n",
    "    climate = Climate.TROPICAL,\n",
    "    soil_type=SoilType.MINERAL,\n",
    "    treatment_factor = TreatmentFactor.NONE,\n",
    "    landuse_intensity = LanduseIntensity.LOW)\n",
    "# Define area fractions allocated to different available landuses\n",
    "# The supported landuses are:\n",
    "# 'bare', 'snow_ice', 'urban', 'water', 'wetlands', 'crops', 'shrubs', 'forest'\n",
    "# and can be listed as follows:\n",
    "# landuses = [landuse.value for landuse in Landuse]\n",
    "catchment_area_fractions = [\n",
    "    0.0, 0.0, 0.0, 0.0, 0.0, 0.01092, 0.11996, 0.867257, 0.0]\n",
    "reservoir_area_fractions = [\n",
    "    0.0, 0.0, 0.0, 0.0, 0.0, 0.45, 0.15, 0.4, 0.0, \n",
    "    0.0, 0.0, 0.0, 0.0, 0.0, 0.0,  0.0,  0.0, 0.0, \n",
    "    0.0, 0.0, 0.0, 0.0, 0.0, 0.0,  0.0,  0.0, 0.0]\n",
    "# Define a dictionary of catchment inputs\n",
    "catchment_inputs = {\n",
    "    'runoff': 1685.5619, 'area': 78203.0, 'population': 8463, 'riv_length': 9.2, \n",
    "    'area_fractions': catchment_area_fractions, 'slope': 8.0, 'precip': 2000.0, \n",
    "    'etransp': 400.0, 'soil_wetness': 140.0, 'mean_olsen': 5.85, 'biogenic_factors': biogenic_factors}\n",
    "# Define a dictionary of reservoir inputs\n",
    "reservoir_inputs = {\n",
    "    'volume': 7663812, 'area': 100.56470, 'max_depth': 32.0, 'mean_depth': 13.6,\n",
    "    'area_fractions': reservoir_area_fractions, 'soil_carbon': 10.228,\n",
    "    'mean_radiance': 4.5, 'mean_radiance_may_sept': 4.5, 'mean_radiance_nov_mar': 3.2,\n",
    "    'mean_monthly_windspeed': 3.8, 'water_intake_depth': 20.0}    \n",
    "# Define a vector of years for which emission profile value shall be calculated\n",
    "year_profile = (1, 5, 10, 20, 30, 40, 50, 65, 80, 100)"
   ]
  },
  {
   "cell_type": "markdown",
   "metadata": {},
   "source": [
    "### 2. Initialize Catchment and Reservoir Objects"
   ]
  },
  {
   "cell_type": "code",
   "execution_count": null,
   "metadata": {},
   "outputs": [],
   "source": [
    "catchment_1 = Catchment(**catchment_inputs)\n",
    "reservoir_1 = Reservoir(\n",
    "    **reservoir_inputs, \n",
    "    temperature = mt,\n",
    "    coordinates=coordinates,\n",
    "    inflow_rate=catchment_1.discharge)"
   ]
  },
  {
   "cell_type": "markdown",
   "metadata": {},
   "source": [
    "### 3. Calculate $CO_2$ emissions"
   ]
  },
  {
   "cell_type": "code",
   "execution_count": null,
   "metadata": {},
   "outputs": [],
   "source": [
    "# Instantiate CarbonDioxideEmission object with catchment and reservoir input data and temperature vector\n",
    "em_co2 = CarbonDioxideEmission(\n",
    "    catchment=catchment_1, reservoir=reservoir_1,\n",
    "    eff_temp=mt.eff_temp(gas='co2'), p_calc_method='g-res')\n",
    "# Calculate CO2 emission profile and CO2 emission factor, respectively\n",
    "co2_emission_profile = em_co2.profile(years = year_profile)\n",
    "co2_emission_factor = em_co2.factor(number_of_years = year_profile[-1])\n",
    "print('CO2 emission profile (g CO2eq m-2 yr-1): ', *[\n",
    "    \"Year: %d \\t Emission: %.2f\" % (year, flux) for year, flux in zip(\n",
    "        year_profile, co2_emission_profile)], sep='\\n* ')   "
   ]
  },
  {
   "cell_type": "code",
   "execution_count": null,
   "metadata": {},
   "outputs": [],
   "source": [
    "# Plot the CO2 emission profile\n",
    "plt.plot(year_profile, co2_emission_profile, 'r-o') \n",
    "plt.xlabel('Years') \n",
    "plt.ylabel('Emissions, g CO2eq m-2 yr-1') \n",
    "plt.title('CO2 emission profile for hypothetical catchment and reservoir data') \n",
    "plt.show()"
   ]
  },
  {
   "cell_type": "code",
   "execution_count": null,
   "metadata": {},
   "outputs": [],
   "source": [
    "print('CO2 emission factor (g CO2eq m-2 yr-1): ', \"%.2f\" % co2_emission_factor)"
   ]
  },
  {
   "cell_type": "markdown",
   "metadata": {},
   "source": [
    "### 4. Calculate $N_2O$ emissions"
   ]
  },
  {
   "cell_type": "code",
   "execution_count": null,
   "metadata": {},
   "outputs": [],
   "source": [
    "# Instantiate NitrousOxideEmission object with catchment and reservoir input data\n",
    "em_n2o = NitrousOxideEmission(\n",
    "    catchment=catchment_1, reservoir=reservoir_1, model='model_1', p_export_model='g-res')\n",
    "# Calculate N2O emission profile and CO2 emission factor, respectively\n",
    "# (Note that N2O emission profile is flat because N2O emission does not have time-dependency)\n",
    "n2o_emission_profile = em_n2o.profile(years = year_profile)\n",
    "n2o_emission_factor = em_n2o.factor()\n",
    "print('N2O emission profile (g CO2eq m-2 yr-1): ', *[\n",
    "    \"Year: %d \\t Emission: %.2f\" % (year, flux) for year, flux in zip(\n",
    "        year_profile, n2o_emission_profile)], sep='\\n* ')   "
   ]
  },
  {
   "cell_type": "code",
   "execution_count": null,
   "metadata": {},
   "outputs": [],
   "source": [
    "# Plot the N2O emission profile\n",
    "plt.plot(year_profile, n2o_emission_profile, 'r-o') \n",
    "plt.xlabel('Years') \n",
    "plt.ylabel('Emissions, g CO2eq m-2 yr-1') \n",
    "plt.title('N2O emission profile for hypothetical catchment and reservoir data') \n",
    "plt.show()"
   ]
  },
  {
   "cell_type": "code",
   "execution_count": null,
   "metadata": {},
   "outputs": [],
   "source": [
    "print('N2O emission factor (g CO2eq m-2 yr-1): ', \"%.2f\" % n2o_emission_factor)"
   ]
  },
  {
   "cell_type": "markdown",
   "metadata": {},
   "source": [
    "### 4 a) Calculate downstream TN load and concentration from the reservoir"
   ]
  },
  {
   "cell_type": "code",
   "execution_count": null,
   "metadata": {},
   "outputs": [],
   "source": [
    "# For TN we can calculate downstream TN load and concentration in the effluent from the reservoir\n",
    "# This feature can be used to evaluate emissions taking into account nitrogen mass balance in upstream\n",
    "# reservoirs on the emissions in the reservoirs downstream\n",
    "tn_downstream_load = em_n2o.nitrogen_downstream_load()/1_000\n",
    "tn_downstream_conc = em_n2o.nitrogen_downstream_conc()\n",
    "print('TN downstream load (tN yr-1): ', \"%.1f\" % tn_downstream_load)\n",
    "print('TN downstream concentration (mgN / L): ', \"%.4f\" % tn_downstream_conc)"
   ]
  },
  {
   "cell_type": "markdown",
   "metadata": {},
   "source": [
    "### 5. Calculate $CH_4$ emissions"
   ]
  },
  {
   "cell_type": "code",
   "execution_count": null,
   "metadata": {},
   "outputs": [],
   "source": [
    "# Instantiate MethaneEmission object with catchment and reservoir input data, montnly temperature\n",
    "# profile and mean irradiation\n",
    "em_ch4 = MethaneEmission(catchment=catchment_1, reservoir=reservoir_1, monthly_temp=mt)\n",
    "# Calculate CH4 emission profile and CH4 emission factor, respectively\n",
    "ch4_emission_profile = em_ch4.profile(years = year_profile)\n",
    "ch4_emission_factor = em_ch4.factor()\n",
    "print('CH4 emission profile (g CO2eq m-2 yr-1): ', *[\n",
    "    \"Year: %d \\t Emission: %.2f\" % (year, flux) for year, flux in zip(\n",
    "        year_profile, ch4_emission_profile)], sep='\\n* ') "
   ]
  },
  {
   "cell_type": "code",
   "execution_count": null,
   "metadata": {},
   "outputs": [],
   "source": [
    "# Plot the CH4 emission profile\n",
    "plt.plot(year_profile, ch4_emission_profile, 'r-o') \n",
    "plt.xlabel('Years') \n",
    "plt.ylabel('Emissions, g CO2eq m-2 yr-1') \n",
    "plt.title('CH4 emission profile for hypothetical catchment and reservoir data') \n",
    "plt.show()"
   ]
  },
  {
   "cell_type": "markdown",
   "metadata": {},
   "source": [
    "<a href=\"https://colab.research.google.com/github/tomjanus/re-emission/blob/master/docs/notebooks/01-Step-By-Step-Manual-Calculations.ipynb\"><img align=\"left\" src=\"https://colab.research.google.com/assets/colab-badge.svg\" alt=\"Open in Colab\" title=\"Open and Execute in Google Colaboratory\"></a>"
   ]
  }
 ],
 "metadata": {
  "kernelspec": {
   "display_name": "Python 3 (ipykernel)",
   "language": "python",
   "name": "python3"
  },
  "language_info": {
   "codemirror_mode": {
    "name": "ipython",
    "version": 3
   },
   "file_extension": ".py",
   "mimetype": "text/x-python",
   "name": "python",
   "nbconvert_exporter": "python",
   "pygments_lexer": "ipython3",
   "version": "3.10.12"
  },
  "latex_envs": {
   "LaTeX_envs_menu_present": true,
   "autoclose": false,
   "autocomplete": true,
   "bibliofile": "biblio.bib",
   "cite_by": "apalike",
   "current_citInitial": 1,
   "eqLabelWithNumbers": true,
   "eqNumInitial": 1,
   "hotkeys": {
    "equation": "Ctrl-E",
    "itemize": "Ctrl-I"
   },
   "labels_anchors": false,
   "latex_user_defs": false,
   "report_style_numbering": false,
   "user_envs_cfg": false
  },
  "varInspector": {
   "cols": {
    "lenName": 16,
    "lenType": 16,
    "lenVar": 40
   },
   "kernels_config": {
    "python": {
     "delete_cmd_postfix": "",
     "delete_cmd_prefix": "del ",
     "library": "var_list.py",
     "varRefreshCmd": "print(var_dic_list())"
    },
    "r": {
     "delete_cmd_postfix": ") ",
     "delete_cmd_prefix": "rm(",
     "library": "var_list.r",
     "varRefreshCmd": "cat(var_dic_list()) "
    }
   },
   "types_to_exclude": [
    "module",
    "function",
    "builtin_function_or_method",
    "instance",
    "_Feature"
   ],
   "window_display": false
  }
 },
 "nbformat": 4,
 "nbformat_minor": 4
}
